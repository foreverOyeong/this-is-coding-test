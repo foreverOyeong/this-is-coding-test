{
  "nbformat": 4,
  "nbformat_minor": 0,
  "metadata": {
    "colab": {
      "provenance": [],
      "authorship_tag": "ABX9TyMCQhtj1lJ32uaLeUV31JzW",
      "include_colab_link": true
    },
    "kernelspec": {
      "name": "python3",
      "display_name": "Python 3"
    },
    "language_info": {
      "name": "python"
    }
  },
  "cells": [
    {
      "cell_type": "markdown",
      "metadata": {
        "id": "view-in-github",
        "colab_type": "text"
      },
      "source": [
        "<a href=\"https://colab.research.google.com/github/foreverOyeong/this-is-coding-test/blob/main/%ED%8C%8C%EC%9D%B4%EC%8D%AC_%EA%B8%B0%EB%B3%B8_%EC%9D%B4%EA%B2%83%EC%9D%B4_%EC%BD%94%ED%85%8C%EB%8B%A4.ipynb\" target=\"_parent\"><img src=\"https://colab.research.google.com/assets/colab-badge.svg\" alt=\"Open In Colab\"/></a>"
      ]
    },
    {
      "cell_type": "markdown",
      "source": [
        "# 프로그래머스\n",
        "1) 슬라이싱 ([::-1]) 설명\n",
        "\n",
        "파이썬 슬라이싱 문법은 [start:stop:step] 형태로,\n",
        "\n",
        "start부터 stop 바로 전 인덱스까지 step 간격으로 요소를 가져옵니다.\n",
        "\n",
        "여기서 [::-1] 은 start와 stop을 모두 비워두고 step = -1 를 지정한 것이어서\n",
        "\n",
        "“문자열(혹은 리스트)을 끝에서부터 앞으로 한 칸씩 이동하며 역순으로 복사해라”\n",
        "\n",
        "2) ''.join() 설명\n",
        "\n",
        "''.join( iterable ) 은 “iterable(반복 가능한 객체)의 각 요소를 빈 문자열('')을 사이사이에 끼워 넣어 하나의 문자열로 합쳐라” 라는 의미예요.\n",
        "\n",
        "3) reversed()\n",
        "\n",
        "`rev_iter = reversed(\"hello\")  ` 주어진 시퀀스를 역순으로 순회할 수 있는 이터레이터를 반환 `rev_iter는 ['o', 'l', 'l', 'e', 'h']`"
      ],
      "metadata": {
        "id": "wDbyNZWATP5p"
      }
    },
    {
      "cell_type": "code",
      "source": [
        "a=1000\n",
        "print(a)\n",
        "a= -7\n",
        "print(a)\n",
        "\n",
        "a=1e9\n",
        "print(a)"
      ],
      "metadata": {
        "colab": {
          "base_uri": "https://localhost:8080/"
        },
        "id": "l8NwwPnqHXa-",
        "outputId": "67ab190a-14ea-43ef-d4f8-4bc951155cca"
      },
      "execution_count": null,
      "outputs": [
        {
          "output_type": "stream",
          "name": "stdout",
          "text": [
            "1000\n",
            "-7\n",
            "1000000000.0\n"
          ]
        }
      ]
    },
    {
      "cell_type": "code",
      "execution_count": null,
      "metadata": {
        "colab": {
          "base_uri": "https://localhost:8080/"
        },
        "id": "FF5RY0sNHPIJ",
        "outputId": "3670bf2b-cfb3-43e9-d2b9-8931a9fe8c96"
      },
      "outputs": [
        {
          "output_type": "stream",
          "name": "stdout",
          "text": [
            "0.9\n",
            "False\n"
          ]
        }
      ],
      "source": [
        "a=round(a,1)0.3+0.6\n",
        "print()\n",
        "if a==0.9:\n",
        "  print(True)\n",
        "else:\n",
        "  print(False)"
      ]
    },
    {
      "cell_type": "markdown",
      "source": [
        "# CH3. 그리디 알고리즘 -\n",
        "CH4는 104p"
      ],
      "metadata": {
        "id": "cPhMLc8nFV6F"
      }
    },
    {
      "cell_type": "markdown",
      "source": [
        "예제 3-1. 거스름돈"
      ],
      "metadata": {
        "id": "Jr-u9ly6DnE_"
      }
    },
    {
      "cell_type": "code",
      "source": [
        "n=1260\n",
        "count=0\n",
        "\n",
        "coin_types=[500,100,50,10]\n",
        "\n",
        "for coin in coin_types:\n",
        "  count+=n//coin # //는 몫을 뜻함\n",
        "  n%= coin # n %coin: n을 coin으로 나눈 나머지를 n에 저장한다.\n",
        "\n",
        "print(count)"
      ],
      "metadata": {
        "id": "PRbUiDY3sAJe",
        "colab": {
          "base_uri": "https://localhost:8080/"
        },
        "outputId": "12c7685e-f2f1-46ba-cf14-b5195e622ad4"
      },
      "execution_count": null,
      "outputs": [
        {
          "output_type": "stream",
          "name": "stdout",
          "text": [
            "6\n"
          ]
        }
      ]
    },
    {
      "cell_type": "markdown",
      "source": [
        "## 3-2) 큰 수의 법칙"
      ],
      "metadata": {
        "id": "EgNkplYMFY59"
      }
    },
    {
      "cell_type": "markdown",
      "source": [
        "동빈이의 큰 수의 법칙은 다양한 수로 이루어진 배열이 있을 때 주어진 수들을 M번 더하여 가장 큰 수를 만드는 법칙이다. 단 배열의 특정한 인덱스(번호)에 해당하는 수가 연속해서 K번을 초과하여 더해질 수 없는 것이 이 법칙의 특징이다.\n",
        "예를 들어 순서대로 2,4,5,4,6 으로 이루어진 배열이 있을 때 M이 8이고, K가 3이라고 가정하자. 이 경우 특정한 인덱스의 수가 연속해서 세 번까지만 더해질 수 있으므로 큰 수의 법칙에 따르 결과는 66656665 더한 46이 된다.\n",
        "단 서로 다른 인덱스에 해당하는 수가 같은 경우에도 서로 다른 것으로 간주한다. 예를 들어 순서대로 34343으로 이루어진 배열이 있을 때 M이 7이고, K가 2라고 가정하자. 이 경우 두 번째 원소에 해당하는 4와 네 번째 해당하는 4를 서로 다른 것으로 간주하기 때문에 4444444인 28이 도출된다.\n",
        "배열의 크기 N, 숫자가 더해지는 횟수 M, 그리고 K가 주어질 때 동빈이의 큰 수의 법칙에 따른 결과를 출력하시오"
      ],
      "metadata": {
        "id": "XilBUS8KFdiy"
      }
    },
    {
      "cell_type": "markdown",
      "source": [
        "입력조건 : 첫째 줄에 N(2<= N<= 1000), M(1<=M<=10000), K(1<=K<=10000)의 자연수가 주어지며, 각 자연수는 공백으로 구분한다.\n",
        "\n",
        "\n",
        "둘째 줄에 N개의 자연수가 주어진다. 각 자연수는 공백으로 구분한다. 단, 각각의 자연수는 1 이상 10000이하의 수로 주어진다\n",
        "\n",
        "\n",
        "입력으로 주어지는 K는 항상 M보다 작거나 같다\n",
        "첫째 줄에 동빈이의 큰 수의 법칙에 따라 더해진 답을 출력한다."
      ],
      "metadata": {
        "id": "GtXTqg6BGOTZ"
      }
    },
    {
      "cell_type": "code",
      "source": [
        "n, m, k = map(int, input().split()) # map은 int옵션을 통해 정수로 바꿀 수 있음\n",
        "# input은 문자열로 입력받고, split()은 공백 기준으로 나눔\n",
        "data= list(map(int,input().split())) # n개의 숫자 배열 입력\n",
        "# 2 4 5를 입력하면 data = [2, 4, 5]로 저장됨\n",
        "\n",
        "data.sort(reverse=True) # 내림차순 정렬\n",
        "first=data[0] # 가장 큰 수\n",
        "second=data[1] # 두 번째 큰 수\n",
        "\n",
        "result=0\n",
        "\n",
        "# 가장 큰수 최대한 더한 다음, 나머지를 그 다음 작은 수로 채우는 방법\n",
        "\n",
        "while True:\n",
        "  for i in range(k): #가장 큰 수를 k번 더하기\n",
        "    if m==0: # m이 0이라면 반복문 탈출\n",
        "      break\n",
        "    result+=first\n",
        "    m -= 1 # 더할 때마다 1씩 빼기\n",
        "  if m==0: # m이 0이라면 반복문 탈출\n",
        "    break\n",
        "  result += second #두 번째로 큰 수를 한번 더하기\n",
        "  m-=1 # 더할 때마다 1씩 빼기\n",
        "\n",
        "print(result)"
      ],
      "metadata": {
        "colab": {
          "base_uri": "https://localhost:8080/"
        },
        "id": "XGHppsdMFbfb",
        "outputId": "5f3105ed-9388-4e97-ff2b-731143dfd252"
      },
      "execution_count": null,
      "outputs": [
        {
          "output_type": "stream",
          "name": "stdout",
          "text": [
            "3 5 2\n",
            "2 5 6 \n",
            "29\n"
          ]
        }
      ]
    },
    {
      "cell_type": "code",
      "source": [
        "n, m, k = map(int, input().split())\n",
        "data=list(map(int, input().split()))\n",
        "\n",
        "data.sort()\n",
        "first= data[n-1]\n",
        "second=data[n-2]\n",
        "\n",
        "# 가장 큰 수가 더해지는 횟수 계산\n",
        "# k번 가장 큰 수+ 1번 두번째 큰 수 더하는 것이 1 세트이기 때문에 k+1을 나눠줌\n",
        "count = (m//(k+1))*k\n",
        "count += m % (k+1) # 남은 횟수는 모두 가장 큰 수로 더함\n",
        "\n",
        "result=0\n",
        "result += count * first\n",
        "result += (m-count)*second\n",
        "print(result)\n"
      ],
      "metadata": {
        "colab": {
          "base_uri": "https://localhost:8080/"
        },
        "id": "-FOAfuJuLiQa",
        "outputId": "f7405af5-9e72-447d-ac78-22566ecb7ba9"
      },
      "execution_count": null,
      "outputs": [
        {
          "output_type": "stream",
          "name": "stdout",
          "text": [
            "3 5 2\n",
            "2 5 6\n",
            "29\n"
          ]
        }
      ]
    },
    {
      "cell_type": "markdown",
      "source": [
        "## 3-3) 숫자 카드 게임"
      ],
      "metadata": {
        "id": "UDYqKXqjPWqA"
      }
    },
    {
      "cell_type": "markdown",
      "source": [
        "숫자 카드 게임은 여러 개의 숫자 카드 중에서 가장 높은 숫자가 쓰인 카드 한 장을 뽑는 게임이다. 단 게임의 룰은 다음과 같다.\n",
        "1. 숫자가 쓰인 카드들이 n x m 형태로 놓여 있다. 이 때 n은 행의 개수이고 m은 열의 개수이다.\n",
        "2. 먼저 뽑고자 하는 카드가 포함되어 있는 행을 선택한다.\n",
        "3. 그 다음 선택된 행에 포함된 카드 중 가장 숫자가 낮은 카드를 뽑아야 한다.\n",
        "4. 따라서 처음에 카드를 골라낼 행을 선택할 때, 이후에 해당 행에서 가장 숫자가 낮은 카드를 뽑을 것을 고려하여 최종적으로 가장 높은 숫자의 카드를 뽑을 수 있도록 전략을 세워야 한다."
      ],
      "metadata": {
        "id": "VKFd6DFnQXkk"
      }
    },
    {
      "cell_type": "markdown",
      "source": [
        "입력조건\n",
        "- 첫째 줄에 숫자카드들이 놓인 행의 개수 n과 열의 개수 m이 공백을 기준으로 하여 각각 자연수로 주어진다. (1<=n, m<=100)\n",
        "- 둘째 줄부터 n개의 줄에 걸쳐 각 카드가 적힌 숫자가 주어진다. 각 숫자는 1 이상 10000 이하의 자연수이다.\n",
        "\n",
        "\n",
        "출력조건\n",
        "- 첫번째 게임의 룰에 맞게 선택한 카드에 적힌 숫자를 출력한다"
      ],
      "metadata": {
        "id": "Z05jUMheSQQ9"
      }
    },
    {
      "cell_type": "code",
      "source": [
        "n, m = map(int, input().split())\n",
        "\n",
        "result = 0\n",
        "for i in range(n):\n",
        "  data=list(map(int, input().split()))\n",
        "  min_value=min(data)\n",
        "  result=max(result,min_value)\n",
        "\n",
        "print(result)"
      ],
      "metadata": {
        "colab": {
          "base_uri": "https://localhost:8080/"
        },
        "id": "PL6QhNZQQWAi",
        "outputId": "96c60c72-fea1-4597-cddf-baa74366284a"
      },
      "execution_count": null,
      "outputs": [
        {
          "output_type": "stream",
          "name": "stdout",
          "text": [
            "3 3 \n",
            "4\n",
            "7 2 7\n",
            "1 7 4\n",
            "4\n"
          ]
        }
      ]
    },
    {
      "cell_type": "code",
      "source": [
        "n, m = map(int, input().split())\n",
        "\n",
        "result=0\n",
        "for i in range(n):\n",
        "  data= list(map(int, input().split()))\n",
        "  min_value=10001\n",
        "  for a in data:\n",
        "    min_value=min(min_value,a)\n",
        "  result=max(result,min_value)\n",
        "\n",
        "print(result)"
      ],
      "metadata": {
        "colab": {
          "base_uri": "https://localhost:8080/"
        },
        "id": "yrPGErn8UVUe",
        "outputId": "d3a3d9d7-2b26-49db-c92e-5f4c7d91eadc"
      },
      "execution_count": null,
      "outputs": [
        {
          "output_type": "stream",
          "name": "stdout",
          "text": [
            "3 3\n",
            "5 7 3\n",
            "3 8 5\n",
            "6\n",
            "6\n"
          ]
        }
      ]
    },
    {
      "cell_type": "markdown",
      "source": [
        "## 3-4) 1이 될 때 까지"
      ],
      "metadata": {
        "id": "voFGJMPwU2Kg"
      }
    },
    {
      "cell_type": "markdown",
      "source": [
        "어떠한 수 n이 1이 될 때까지 다음의 두 과정 중 하나를 반복적으로 선택하여 수행하려고 한다. 단, 두 번째 연산은 n 이 k로 나누어떨어질 때만 선택할 수 있다.\n",
        "1. n에서 1을 뺀다.\n",
        "2. n을 k로 나눈다.\n",
        "\n",
        "예를 들어 n이 17, k가 4라고 가정하자. 이 때 1번의 과정을 한 번 수행하면 n은 16이 된다.\n",
        "\n",
        "이후에 2번의 과정을 두 번 수행하면 n은 1이 된다. 결과적으로 이 경우 전체 과정을 실행한 횟수는 3이 된다.\n",
        "\n",
        "이는 n을 1으로 만드는 최소 횟수이다.\n",
        "n과 k가 주어질 때 n이 1이 될 때까지 1번 혹은 2번의 과정을 수행해야 하는 최소 횟수를 구하는 프로그램을 작성하시오."
      ],
      "metadata": {
        "id": "oWM3WpcJVZM5"
      }
    },
    {
      "cell_type": "markdown",
      "source": [
        "입력조건\n",
        "- 첫째 줄에 n(2<= n<=100000)과 k(2<= k <= 100000)가 공백으로 구분되며 각각 자연수로 주어진다. 이 때 입력으로 주어지는 n은 항상 k 보다 크거나 같다.\n",
        "\n",
        "출력조건\n",
        "- 첫째 줄에 n이 1이 될 때까지 1번 혹은 2번의 과정을 수행해야 하는 횟수의 최솟값을 출력한다."
      ],
      "metadata": {
        "id": "8DeESnqdWvnr"
      }
    },
    {
      "cell_type": "code",
      "source": [
        "n, k=map(int,input().split())\n",
        "\n",
        "result=0\n",
        "while True:\n",
        "  if n==1:\n",
        "    break\n",
        "\n",
        "  if n%k==0:\n",
        "    n= n//k\n",
        "    result+=1\n",
        "  else:\n",
        "    n= n-1\n",
        "    result+=1\n",
        "\n",
        "print(result)"
      ],
      "metadata": {
        "colab": {
          "base_uri": "https://localhost:8080/"
        },
        "id": "nhgjAxkqWAqp",
        "outputId": "07b009fc-9f5b-4841-a029-fdcf5ac371d7"
      },
      "execution_count": null,
      "outputs": [
        {
          "output_type": "stream",
          "name": "stdout",
          "text": [
            "17 6\n",
            "7\n"
          ]
        }
      ]
    },
    {
      "cell_type": "code",
      "source": [
        "n, k = map(int, input().split())\n",
        "\n",
        "result = 0\n",
        "\n",
        "while n > 1:\n",
        "    if n % k == 0:\n",
        "        n //= k        # 정수 나눗셈\n",
        "    else:\n",
        "        n -= 1         # 1 빼기\n",
        "    result += 1        # 연산 횟수 누적\n",
        "\n",
        "print(result)\n"
      ],
      "metadata": {
        "colab": {
          "base_uri": "https://localhost:8080/"
        },
        "id": "wAP_tizDipY5",
        "outputId": "71ee6b72-d57e-4eda-c00c-b71d88abcd2d"
      },
      "execution_count": null,
      "outputs": [
        {
          "output_type": "stream",
          "name": "stdout",
          "text": [
            "17 6\n",
            "7\n"
          ]
        }
      ]
    },
    {
      "cell_type": "code",
      "source": [
        "n, k= map(int, input().split())\n",
        "result=0\n",
        "\n",
        "while n>=k:\n",
        "  while n%k != 0:\n",
        "    n -= 1\n",
        "    result += 1\n",
        "  n//=k\n",
        "  result+=1\n",
        "\n",
        "print(result)\n"
      ],
      "metadata": {
        "colab": {
          "base_uri": "https://localhost:8080/"
        },
        "id": "7k1z4lA7is4y",
        "outputId": "5dc1a249-b1d9-4655-dc60-361521499a7b"
      },
      "execution_count": null,
      "outputs": [
        {
          "output_type": "stream",
          "name": "stdout",
          "text": [
            "17 6\n",
            "6\n"
          ]
        }
      ]
    },
    {
      "cell_type": "code",
      "source": [
        "n,k= map(int, input().split())\n",
        "result=0\n",
        "\n",
        "while True:\n",
        "  target=(n//k)*k\n",
        "  result += (n-target)\n",
        "  n=target\n",
        "\n",
        "  if n<k:\n",
        "    break\n",
        "  result += 1\n",
        "  n //= k\n",
        "\n",
        "result +=(n-1)\n",
        "print(result)"
      ],
      "metadata": {
        "colab": {
          "base_uri": "https://localhost:8080/"
        },
        "id": "stOmSXZ_jK4X",
        "outputId": "b51e3c00-36f4-497d-9a81-cf307ab893d8"
      },
      "execution_count": null,
      "outputs": [
        {
          "output_type": "stream",
          "name": "stdout",
          "text": [
            "17 6\n",
            "7\n"
          ]
        }
      ]
    },
    {
      "cell_type": "markdown",
      "source": [
        "# CH11 그리디문제 312p\n"
      ],
      "metadata": {
        "id": "5IIm47hmkQ_y"
      }
    },
    {
      "cell_type": "markdown",
      "source": [
        "## Q01 모험가길드\n",
        "한 마을에 모험가가 N명 있습니다. 모험가 길드에서는 N명의 모험가르 ㄹ대상으로 '공포도'를 측정했는데, 높은 모험가는 쉽게 공포를 느껴 대처 능력이 떨어집니다. 공포도가 x인 모험가는 반드시 x명 이상으로 구성한 모험가 그룹에 참여해야 여행을 떠날 수 있도록 규정했습니다. 동빈이는 최대 몇 개의 모험가 그룹을 만들 수 있는지 궁금합니다.\n",
        "\n",
        "N명의 모험가에 대한 정보가 주어졌을 때, 여행을 떠날 수 있는 그룹 수의 최댓값을 구하는 프로그램을 작성하세요\n",
        "\n",
        "예를 들어 N=5이고, 각 모험가의 공포도가 2 3 1 2 2라고 가정합시다.\n",
        "기 때 그룹1에 공포도가 1,2,3인 모험가를 한 명씩 넣고 그룹2에 공포도가 2인 남은 2명을 넣게 되면 총 2개의 그룹을 만들 수 있습니다. 또한 모든 모험가를 그룹에 넣을 필요는 없습니다.\n",
        "\n"
      ],
      "metadata": {
        "id": "DZV14fpNkWHY"
      }
    },
    {
      "cell_type": "code",
      "source": [
        "n=int(input().strip())\n",
        "fear_levels=list(map(int,input().split()))\n",
        "fear_levels.sort()\n",
        "\n",
        "result=0 # 최종 만들 수 있는 그룹 수\n",
        "group_size=0 # 현재 그룹에 모인 사람 수\n",
        "\n",
        "for fear in fear_levels:\n",
        "  group_size +=1 # 이 모험가를 그룹에 포함\n",
        "  # 현재 그룹에 모인 수가 이 모험가의 공포도 이상이면\n",
        "  if group_size >= fear:\n",
        "    result += 1 # 그룹 결성\n",
        "    group_size=0\n",
        "\n",
        "print(result)"
      ],
      "metadata": {
        "colab": {
          "base_uri": "https://localhost:8080/"
        },
        "id": "2c4yldMAlOsM",
        "outputId": "8a769945-d7d1-4a2a-801e-24fc9e6f3055"
      },
      "execution_count": 3,
      "outputs": [
        {
          "output_type": "stream",
          "name": "stdout",
          "text": [
            "5\n",
            "2 3 3 4 5 6\n",
            "1\n"
          ]
        }
      ]
    },
    {
      "cell_type": "markdown",
      "source": [
        "## Q2 곱하기 혹은 더하기\n",
        "각 자리가 숫자(0부터 9)로만 이루어진 문자열 s가 주어졌을 때, 왼쪽부터 오르쪽으로 하나씩 모든 숫자를 확인하며 숫자 사이에 '×' 혹은 '+' 연산자를 넣어 결과적으로 만들 수 있는 가장 큰 수를 구하는 프로그램을 작성하세요. 단 일반적인 계산방식과는 달리, 모든 연산은 왼쪽에서부터 순서대로 이루어진다고 가정합니다.\n",
        "\n",
        "예를 들어 02984 라는 문자열이 주어지면, 만들어질 수 있는 가장 큰 수는 ((((0 + 2) x 9) x8)x4)=576입니다.\n",
        "\n",
        "또한 만들어질 수 있는 가장 큰 수는 항상 20억 이하의 정수가 되도록 입력이 주어집니다.\n",
        "\n",
        "- 입력조건 : 첫째 줄에 여러 개의 숫자로 구성된 하나의 문자열 S가 주어집니다. (1<=S의 길이 <=20)\n",
        "- 출력조건 : 첫째 줄에 만들어질 수 있는 가장 큰 수를 출력합니다."
      ],
      "metadata": {
        "id": "Ru69TNXFsk4z"
      }
    },
    {
      "cell_type": "code",
      "source": [
        "s=input().strip()\n",
        "\n",
        "# 지금까지 만든 결과(result)가 0 또는 1이거나, 다음 숫자(num)가 0 또는 1이면 더하기(+), 그 외엔 곱하기(×)\n",
        "result=int(s[0])\n",
        "\n",
        "for ch in s[1:]:\n",
        "  num=int(ch)\n",
        "  if result<=1 or num<=1:\n",
        "    result+=num\n",
        "  else:\n",
        "    result*=num\n",
        "\n",
        "print(result)"
      ],
      "metadata": {
        "colab": {
          "base_uri": "https://localhost:8080/"
        },
        "id": "Vn4uejIBu7G3",
        "outputId": "e6542cce-88cf-4ad3-9613-9db4ea052a8f"
      },
      "execution_count": 4,
      "outputs": [
        {
          "output_type": "stream",
          "name": "stdout",
          "text": [
            "37632\n",
            "756\n"
          ]
        }
      ]
    },
    {
      "cell_type": "markdown",
      "source": [
        ".strip() : 문자열내에서 원하는 문자열 또는 공백을 모두 제거한다.\n",
        "```\n",
        "string = \"         abcde         \"\n",
        "string.strip()\n",
        "\n",
        "# 'abcde'\n",
        "\n",
        "```"
      ],
      "metadata": {
        "id": "vtjpkfKJ3pmQ"
      }
    },
    {
      "cell_type": "markdown",
      "source": [
        "## Q3 문자열 뒤집기\n",
        "다솜이는 0과 1로만 이루어진 문자열 s를 가지고 있습니다. 이 문자열 s에 있는 모든 숫자를 전부 같게 만들려고 합니다. 다솜이가 할 수 있는 행동은 연속된 하나 이상의 숫자를 잡고 모두 뒤집는 것입니다. 뒤집는 것은 1을 0으로, 0을 1으로 바꾸는 것을 의미합니다.\n",
        "예를 들어 s=0001100일 때는 다음과 같습니다.\n",
        "1. 전체를 뒤집으면 1110011이 됩니다.\n",
        "2. 4번째 문자부터 5번째 문자까지 뒤집으면 1111111이 되어서 두 번 만에 모두 같은 숫자로 만들 수 있습니다.\n",
        "\n",
        "하지만 처음부터 4번째 문자부터 5번째 문자까지 문자를 뒤집으면 한 번에 0000000이 되어서 1번 만에 모두 같은 숫자로 만들 수 있습니다.\n",
        "문자열 s가 주어졌을 때, 다솜이가 해야 하는 행동의 최소 횟수를 출력하세요.\n",
        "\n",
        "- 입력 조건 : 첫째 줄에 0과 1로만 이루어진 문자열 s가 주어집니다. s의 길이는 100만보다 작습니다.\n",
        "- 출력 조건 : 첫째 줄에 다솜이가 해야 하는 행동의 최소 횟수를 출력합니다."
      ],
      "metadata": {
        "id": "m2JpEWTYyckM"
      }
    },
    {
      "cell_type": "code",
      "source": [
        "s=input().strip()\n",
        "#문자열을 0 그룹, 1 그룹으로 나누어 생각하면,한 번 뒤집기로 하나의 그룹을 “한꺼번에” 뒤집을 수 있어요.\n",
        "#최종적으로는 min(0그룹 개수, 1그룹 개수) 가 답.\n",
        "result=0\n",
        "prev=s[0]\n",
        "count0=0\n",
        "count1=0\n",
        "if prev=='0':\n",
        "  count0=1\n",
        "else:\n",
        "  count1=1\n",
        "\n",
        "for ch in s[1:]:\n",
        "  if ch != prev:\n",
        "    if ch=='0':\n",
        "      count0+=1\n",
        "    else:\n",
        "      count1+=1\n",
        "    prev=ch\n",
        "\n",
        "print(min(count0,count1))\n"
      ],
      "metadata": {
        "colab": {
          "base_uri": "https://localhost:8080/"
        },
        "id": "oZIeQHi8zQfl",
        "outputId": "f575fe19-a532-4a58-fce9-4a7034882fd6"
      },
      "execution_count": 10,
      "outputs": [
        {
          "output_type": "stream",
          "name": "stdout",
          "text": [
            "0001010\n",
            "2\n"
          ]
        }
      ]
    },
    {
      "cell_type": "markdown",
      "source": [
        "## Q4 만들 수 없는 금액 -- 이해 안됨\n",
        "동네 편의점인 주인인 동빈이는 n개의 동전을 가지고 있습니다. 이 때 n개의 동전을 이용하여 만들 수 없는 양의 정수 금액 중 최솟값을 구하는 프로그램을 작성하세요.\n",
        "\n",
        "예를 들어, n=5이고, 각 동전이 각각 3원, 2원, 1원, 1원, 9원짜리 (화폐단위) 동전이라고 가정합시다. 이 때 동빈이가 만들 수 없는 양의 정수 금액 중 최솟값은 8원입니다.\n",
        "또 다르 예시로, n=3이고, 각 동전이 각각 3, 5, 7원짜리 (화폐단위) 동전이라고 가정합시다. 이 때 동빈이가 만들 수 없는 양의 정수 금액 중 최솟값은 1원입니다.\n",
        "\n",
        "- 입력 조건\n",
        "  1. 첫째 줄에는 동전의 개수를 나타내는 양의 정수 n이 주어집니다. (1<=n<=1000)\n",
        "  2. 둘째 줄에는 각 동전의 화폐 단위를 나타내는 n개의 자연수가 주어지며, 각 자연수는 공백으로 구분합니다. 이 때 각 화폐 단위는 1,000,000 이하의 자연수입니다.\n",
        "- 출력 조건 : 첫째 줄에 주어진 동전들로 만들 수 없는 양의 정수 금액 중 최솟값을 출력합니다.\n"
      ],
      "metadata": {
        "id": "J9Oplltq05bK"
      }
    },
    {
      "cell_type": "code",
      "source": [
        "n= int(input().strip())\n",
        "coins = list(map(int, input().split()))\n",
        "\n",
        "coins.sort()\n",
        "\n",
        "target=1 # 1원부터 target-1원까지는 모두 만들 수 있다.”\n",
        "\n",
        "for coin in coins:\n",
        "  if coin>target: #지금 target원을 만들 수 없으므로” 바로 target이 답\n",
        "    break\n",
        "  target +=coin #이 동전을 쓰면 만들 수 있는 최대 금액 범위가 target+coin-1까지 확장되므로\n",
        "\n",
        "print(target)\n"
      ],
      "metadata": {
        "colab": {
          "base_uri": "https://localhost:8080/"
        },
        "id": "ErPrcIyE6ucC",
        "outputId": "148c3f22-44a9-4e9f-dae8-e1008163ce73"
      },
      "execution_count": 15,
      "outputs": [
        {
          "output_type": "stream",
          "name": "stdout",
          "text": [
            "5\n",
            "1 4 53 2 3\n",
            "11\n"
          ]
        }
      ]
    },
    {
      "cell_type": "markdown",
      "source": [
        "## Q5 볼링공 고르기\n",
        "a, b두 사람이 볼링을 치고 있습니다. 두 사람은 서로 무게가 다른 볼링공을 고르려고 합니다. 볼링공은 총 n개가 있으며 각 볼링공마다 무게가 적혀있고, 공의 번호는 1번부터 순서대로 부여됩니다. 또한 같은 무게의 공이 여러 개 있을 수 있지만, 서로 다른 공으로 간주합니다. 볼링공의 무게는 1부터 m까지의 자연수 형태로 존재합니다.\n",
        "\n",
        "예를 들어 n이 5이고, m이 3이며 각각 무게가 차례대로 1,3,2,3,2일 때 각 공의 번호가 차례로 1번부터 5번까지 부여됩니다. 이 때 두 사람이 고를 수 있는 볼링공 번호의 조합을 구하면 다음과 같습니다.\n",
        "\n",
        "(1,2) (1,3) (1,4) (1,5) (2,3) (2,5) (3,4) (4,5)\n",
        "\n",
        "결과적으로 두 사람이 공을 고르는 경우의 수는 8가지 입니다. N개의 공의 무게가 각각 주어질 때, 두 사람의 볼링공을 고르는 경우의 수를 구하는 프로그램을 작성하세요\n",
        "\n",
        "- 입력조건\n",
        "  1. 첫째 줄에 볼링공의 개수 n, 공의 최대 무게 m이 공백으로 구분되어 각각 자연수 형태로 주어집니다.\n",
        "  2. 둘째 줄에 각 볼링공의 무게 k 가 공백으로 구분되어 자연수 형태로 주어집니다.\n",
        "- 출력조건 : 첫째 줄에 두 사람이 볼링공을 고르는 경우의 수를 출력합니다."
      ],
      "metadata": {
        "id": "OjI32O4LMtbQ"
      }
    },
    {
      "cell_type": "code",
      "source": [
        "n, m = map(int,input().split())\n",
        "k= list(map(int,input().split()))\n",
        "\n",
        "count=0\n",
        "for i in range(n):\n",
        "  for j in range(i+1,n):\n",
        "    if k[i] != k[j]:\n",
        "      count+=1\n",
        "print(count)"
      ],
      "metadata": {
        "colab": {
          "base_uri": "https://localhost:8080/"
        },
        "id": "g-AT0n9tNq6j",
        "outputId": "8844a013-7ed5-4a66-8d76-03407cbf4622"
      },
      "execution_count": 17,
      "outputs": [
        {
          "output_type": "stream",
          "name": "stdout",
          "text": [
            "5 3\n",
            "1 3 2 3 2\n",
            "8\n"
          ]
        }
      ]
    }
  ]
}